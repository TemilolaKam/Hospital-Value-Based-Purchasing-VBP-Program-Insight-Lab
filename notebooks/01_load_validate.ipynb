{
 "cells": [
  {
   "cell_type": "markdown",
   "id": "15d8592f-7374-4ba2-b2b6-64f2a45e9156",
   "metadata": {},
   "source": [
    "## Loading the data"
   ]
  },
  {
   "cell_type": "code",
   "execution_count": 1,
   "id": "95b59d4a-dc56-40c3-8750-2fe7d282a47f",
   "metadata": {},
   "outputs": [
    {
     "name": "stdout",
     "output_type": "stream",
     "text": [
      "<class 'pandas.core.frame.DataFrame'>\n",
      "RangeIndex: 2489 entries, 0 to 2488\n",
      "Data columns (total 17 columns):\n",
      " #   Column                                                            Non-Null Count  Dtype  \n",
      "---  ------                                                            --------------  -----  \n",
      " 0   Fiscal Year                                                       2489 non-null   int64  \n",
      " 1   Facility ID                                                       2489 non-null   int64  \n",
      " 2   Facility Name                                                     2489 non-null   object \n",
      " 3   Address                                                           2489 non-null   object \n",
      " 4   City/Town                                                         2489 non-null   object \n",
      " 5   State                                                             2489 non-null   object \n",
      " 6   ZIP Code                                                          2489 non-null   int64  \n",
      " 7   County/Parish                                                     2489 non-null   object \n",
      " 8   Unweighted Normalized Clinical Outcomes Domain Score              2489 non-null   object \n",
      " 9   Weighted Normalized Clinical Outcomes Domain Score                2489 non-null   object \n",
      " 10  Unweighted Person And Community Engagement Domain Score           2489 non-null   object \n",
      " 11  Weighted Person And Community Engagement Domain Score             2489 non-null   object \n",
      " 12  Unweighted Normalized Safety Domain Score                         2489 non-null   object \n",
      " 13  Weighted Safety Domain Score                                      2489 non-null   object \n",
      " 14  Unweighted Normalized Efficiency And Cost Reduction Domain Score  2489 non-null   float64\n",
      " 15  Weighted Efficiency And Cost Reduction Domain Score               2489 non-null   float64\n",
      " 16  Total Performance Score                                           2489 non-null   float64\n",
      "dtypes: float64(3), int64(3), object(11)\n",
      "memory usage: 330.7+ KB\n"
     ]
    }
   ],
   "source": [
    "import pandas as pd\n",
    "\n",
    "RAW_PATH = \"../data/raw/hvbp_tps.csv\"\n",
    "df = pd.read_csv(RAW_PATH)\n",
    "\n",
    "df.head()\n",
    "df.info()"
   ]
  },
  {
   "cell_type": "markdown",
   "id": "ab4a9f29-2756-4d04-9c84-efefa2bd3b40",
   "metadata": {},
   "source": [
    "## checking the Columns "
   ]
  },
  {
   "cell_type": "code",
   "execution_count": 2,
   "id": "199a9e0d-9f36-4dcc-9e5f-2a7f50446909",
   "metadata": {},
   "outputs": [
    {
     "name": "stdout",
     "output_type": "stream",
     "text": [
      "\n",
      "Unweighted Normalized Clinical Outcomes Domain Score – unique samples:\n",
      "['0.000000000000' '2.500000000000' '10.000000000000' '15.000000000000'\n",
      " '27.500000000000' '13.333333333333' '22.500000000000' '31.666666666667'\n",
      " '6.666666666667' '33.333333333333' '26.666666666667' '14.000000000000'\n",
      " '1.666666666667' 'Not Available' '20.000000000000']\n",
      "\n",
      "Weighted Normalized Clinical Outcomes Domain Score – unique samples:\n",
      "['0.000000000000' '0.833333333333' '2.500000000000' '3.750000000000'\n",
      " '6.875000000000' '3.333333333333' '5.625000000000' '7.916666666667'\n",
      " '0.625000000000' '1.666666666667' '8.333333333333' '6.666666666667'\n",
      " '3.500000000000' '0.416666666667' 'Not Available']\n",
      "\n",
      "Unweighted Person And Community Engagement Domain Score – unique samples:\n",
      "['38.000000000000' '53.000000000000' '12.000000000000' '35.000000000000'\n",
      " '11.000000000000' '17.000000000000' '13.000000000000' '21.000000000000'\n",
      " '15.000000000000' '5.000000000000' '25.000000000000' '8.000000000000'\n",
      " '7.000000000000' '20.000000000000' '16.000000000000']\n",
      "\n",
      "Weighted Person And Community Engagement Domain Score – unique samples:\n",
      "['9.500000000000' '17.666666666667' '3.000000000000' '8.750000000000'\n",
      " '2.750000000000' '4.250000000000' '3.250000000000' '5.250000000000'\n",
      " '3.750000000000' '1.250000000000' '6.250000000000' '2.000000000000'\n",
      " '1.750000000000' '5.000000000000' '4.000000000000']\n",
      "\n",
      "Unweighted Normalized Safety Domain Score – unique samples:\n",
      "['32.500000000000' 'Not Available' '30.000000000000' '18.000000000000'\n",
      " '65.000000000000' '8.000000000000' '50.000000000000' '16.000000000000'\n",
      " '66.666666666667' '54.000000000000' '36.000000000000' '33.333333333333'\n",
      " '46.000000000000' '42.000000000000' '34.000000000000']\n",
      "\n",
      "Weighted Safety Domain Score – unique samples:\n",
      "['8.125000000000' 'Not Available' '7.500000000000' '4.500000000000'\n",
      " '16.250000000000' '2.000000000000' '12.500000000000' '4.000000000000'\n",
      " '16.666666666667' '13.500000000000' '9.000000000000' '8.333333333333'\n",
      " '11.500000000000' '10.500000000000' '8.500000000000']\n"
     ]
    }
   ],
   "source": [
    "obj_cols = [\n",
    "    \"Unweighted Normalized Clinical Outcomes Domain Score\",\n",
    "    \"Weighted Normalized Clinical Outcomes Domain Score\",\n",
    "    \"Unweighted Person And Community Engagement Domain Score\",\n",
    "    \"Weighted Person And Community Engagement Domain Score\",\n",
    "    \"Unweighted Normalized Safety Domain Score\",\n",
    "    \"Weighted Safety Domain Score\",\n",
    "]\n",
    "\n",
    "for col in obj_cols:\n",
    "    print(f\"\\n{col} – unique samples:\")\n",
    "    print(df[col].unique()[:15])   # first 15 distinct values \n"
   ]
  },
  {
   "cell_type": "markdown",
   "id": "364d782d-daff-4e0b-885f-db5535a5e889",
   "metadata": {},
   "source": [
    "## Changing the columns with Object dtype to Float by changing the \"Not Available\" entries to Na"
   ]
  },
  {
   "cell_type": "code",
   "execution_count": 3,
   "id": "3e74cbd7-559f-47a1-9770-ba9bada3c1f0",
   "metadata": {},
   "outputs": [
    {
     "name": "stdout",
     "output_type": "stream",
     "text": [
      "Unweighted Normalized Clinical Outcomes Domain Score       float64\n",
      "Weighted Normalized Clinical Outcomes Domain Score         float64\n",
      "Unweighted Person And Community Engagement Domain Score    float64\n",
      "Weighted Person And Community Engagement Domain Score      float64\n",
      "Unweighted Normalized Safety Domain Score                  float64\n",
      "Weighted Safety Domain Score                               float64\n",
      "dtype: object\n",
      "Unweighted Normalized Clinical Outcomes Domain Score        44\n",
      "Weighted Normalized Clinical Outcomes Domain Score          44\n",
      "Unweighted Person And Community Engagement Domain Score      4\n",
      "Weighted Person And Community Engagement Domain Score        4\n",
      "Unweighted Normalized Safety Domain Score                  408\n",
      "Weighted Safety Domain Score                               408\n",
      "dtype: int64\n"
     ]
    }
   ],
   "source": [
    "df[obj_cols] = (\n",
    "    df[obj_cols]\n",
    "    .replace({\"Not Available\": pd.NA, \"\": pd.NA, \" \": pd.NA})\n",
    "    .apply(pd.to_numeric, errors=\"coerce\")       \n",
    ")\n",
    "\n",
    "\n",
    "print(df[obj_cols].dtypes)       \n",
    "print(df[obj_cols].isna().sum())  \n"
   ]
  },
  {
   "cell_type": "markdown",
   "id": "6875f757-c557-4ee4-9e5f-9e19824c8872",
   "metadata": {},
   "source": [
    "## Rename the columns"
   ]
  },
  {
   "cell_type": "code",
   "execution_count": 5,
   "id": "82bbc3b0-b7a7-4e91-8b8b-3c6d2ad67f20",
   "metadata": {},
   "outputs": [],
   "source": [
    "rename_map = {\n",
    "    \"Weighted Normalized Clinical Outcomes Domain Score\":  \"wt_clinical\",\n",
    "    \"Weighted Person And Community Engagement Domain Score\": \"wt_pce\",\n",
    "    \"Weighted Safety Domain Score\":                         \"wt_safety\",\n",
    "    \"Weighted Efficiency And Cost Reduction Domain Score\":  \"wt_efficiency\",\n",
    "    \"Total Performance Score\":                              \"tps\",\n",
    "}\n",
    "df = df.rename(columns=rename_map)\n"
   ]
  },
  {
   "cell_type": "code",
   "execution_count": 6,
   "id": "27a7de8f-6bba-42ba-9cb2-a7009529692f",
   "metadata": {},
   "outputs": [],
   "source": [
    "\n",
    "cols_keep = [\"Facility ID\", \"Facility Name\", \"State\", \"County/Parish\"] + list(rename_map.values())\n",
    "df = df[cols_keep]"
   ]
  },
  {
   "cell_type": "code",
   "execution_count": 7,
   "id": "37923704-3fdd-4b36-b923-a81141d19561",
   "metadata": {},
   "outputs": [
    {
     "data": {
      "text/html": [
       "<div>\n",
       "<style scoped>\n",
       "    .dataframe tbody tr th:only-of-type {\n",
       "        vertical-align: middle;\n",
       "    }\n",
       "\n",
       "    .dataframe tbody tr th {\n",
       "        vertical-align: top;\n",
       "    }\n",
       "\n",
       "    .dataframe thead th {\n",
       "        text-align: right;\n",
       "    }\n",
       "</style>\n",
       "<table border=\"1\" class=\"dataframe\">\n",
       "  <thead>\n",
       "    <tr style=\"text-align: right;\">\n",
       "      <th></th>\n",
       "      <th>Facility ID</th>\n",
       "      <th>Facility Name</th>\n",
       "      <th>State</th>\n",
       "      <th>County/Parish</th>\n",
       "      <th>wt_clinical</th>\n",
       "      <th>wt_pce</th>\n",
       "      <th>wt_safety</th>\n",
       "      <th>wt_efficiency</th>\n",
       "      <th>tps</th>\n",
       "    </tr>\n",
       "  </thead>\n",
       "  <tbody>\n",
       "    <tr>\n",
       "      <th>0</th>\n",
       "      <td>190044</td>\n",
       "      <td>ACADIA GENERAL HOSPITAL</td>\n",
       "      <td>LA</td>\n",
       "      <td>ACADIA</td>\n",
       "      <td>0.000000</td>\n",
       "      <td>9.500000</td>\n",
       "      <td>8.125</td>\n",
       "      <td>2.500000</td>\n",
       "      <td>20.125000</td>\n",
       "    </tr>\n",
       "    <tr>\n",
       "      <th>1</th>\n",
       "      <td>490037</td>\n",
       "      <td>RIVERSIDE SHORE MEMORIAL HOSPITAL</td>\n",
       "      <td>VA</td>\n",
       "      <td>ACCOMACK</td>\n",
       "      <td>0.833333</td>\n",
       "      <td>17.666667</td>\n",
       "      <td>NaN</td>\n",
       "      <td>16.666667</td>\n",
       "      <td>35.166667</td>\n",
       "    </tr>\n",
       "    <tr>\n",
       "      <th>2</th>\n",
       "      <td>130007</td>\n",
       "      <td>SAINT ALPHONSUS REGIONAL MEDICAL CENTER</td>\n",
       "      <td>ID</td>\n",
       "      <td>ADA</td>\n",
       "      <td>2.500000</td>\n",
       "      <td>3.000000</td>\n",
       "      <td>7.500</td>\n",
       "      <td>2.500000</td>\n",
       "      <td>15.500000</td>\n",
       "    </tr>\n",
       "    <tr>\n",
       "      <th>3</th>\n",
       "      <td>130006</td>\n",
       "      <td>ST LUKE'S REGIONAL MEDICAL CENTER</td>\n",
       "      <td>ID</td>\n",
       "      <td>ADA</td>\n",
       "      <td>0.000000</td>\n",
       "      <td>8.750000</td>\n",
       "      <td>4.500</td>\n",
       "      <td>7.500000</td>\n",
       "      <td>20.750000</td>\n",
       "    </tr>\n",
       "    <tr>\n",
       "      <th>4</th>\n",
       "      <td>260022</td>\n",
       "      <td>NORTHEAST REGIONAL MEDICAL CENTER</td>\n",
       "      <td>MO</td>\n",
       "      <td>ADAIR</td>\n",
       "      <td>3.750000</td>\n",
       "      <td>2.750000</td>\n",
       "      <td>16.250</td>\n",
       "      <td>12.500000</td>\n",
       "      <td>35.250000</td>\n",
       "    </tr>\n",
       "  </tbody>\n",
       "</table>\n",
       "</div>"
      ],
      "text/plain": [
       "   Facility ID                            Facility Name State County/Parish  \\\n",
       "0       190044                  ACADIA GENERAL HOSPITAL    LA        ACADIA   \n",
       "1       490037        RIVERSIDE SHORE MEMORIAL HOSPITAL    VA      ACCOMACK   \n",
       "2       130007  SAINT ALPHONSUS REGIONAL MEDICAL CENTER    ID           ADA   \n",
       "3       130006        ST LUKE'S REGIONAL MEDICAL CENTER    ID           ADA   \n",
       "4       260022        NORTHEAST REGIONAL MEDICAL CENTER    MO         ADAIR   \n",
       "\n",
       "   wt_clinical     wt_pce  wt_safety  wt_efficiency        tps  \n",
       "0     0.000000   9.500000      8.125       2.500000  20.125000  \n",
       "1     0.833333  17.666667        NaN      16.666667  35.166667  \n",
       "2     2.500000   3.000000      7.500       2.500000  15.500000  \n",
       "3     0.000000   8.750000      4.500       7.500000  20.750000  \n",
       "4     3.750000   2.750000     16.250      12.500000  35.250000  "
      ]
     },
     "execution_count": 7,
     "metadata": {},
     "output_type": "execute_result"
    }
   ],
   "source": [
    "df.head()"
   ]
  },
  {
   "cell_type": "code",
   "execution_count": 8,
   "id": "08f2092a-5d3c-4c8e-8dbe-1aa93792f301",
   "metadata": {},
   "outputs": [],
   "source": [
    "out_path = \"../data/processed/hvbp_2025_clean.parquet\"\n",
    "df.to_parquet(out_path, index=False)"
   ]
  },
  {
   "cell_type": "code",
   "execution_count": 9,
   "id": "5c091853-e21f-4b99-9c18-b14bf15e3b70",
   "metadata": {},
   "outputs": [],
   "source": [
    "PROC_CSV = \"../data/processed/hvbp_2025_clean.csv\"\n",
    "df.to_csv(PROC_CSV, index=False)"
   ]
  },
  {
   "cell_type": "markdown",
   "id": "a76e4582-0221-49a1-8779-6f42221ca6a7",
   "metadata": {},
   "source": [
    "## Data Quality check to know if the sum of the columns add up to the TPS column"
   ]
  },
  {
   "cell_type": "code",
   "execution_count": 10,
   "id": "d271c20d-7fb4-4732-8d5f-e85def7eaf5f",
   "metadata": {},
   "outputs": [
    {
     "name": "stdout",
     "output_type": "stream",
     "text": [
      "Rows failing the sum-check: 0\n"
     ]
    }
   ],
   "source": [
    "WEIGHTED_COLS = [\n",
    "    \"wt_clinical\",\n",
    "    \"wt_pce\",\n",
    "    \"wt_safety\",\n",
    "    \"wt_efficiency\",\n",
    "]\n",
    "\n",
    "df[\"weighted_sum\"] = df[WEIGHTED_COLS].sum(axis=1)\n",
    "\n",
    "\n",
    "mismatch = df[~(df[\"weighted_sum\"].sub(df[\"tps\"]).abs() < 0.01)]\n",
    "\n",
    "print(f\"Rows failing the sum-check: {len(mismatch)}\")\n"
   ]
  },
  {
   "cell_type": "code",
   "execution_count": 11,
   "id": "98e472cf-da13-49da-a455-c6915b3b3c83",
   "metadata": {},
   "outputs": [
    {
     "data": {
      "text/plain": [
       "wt_safety        408\n",
       "wt_clinical       44\n",
       "wt_pce             4\n",
       "Facility ID        0\n",
       "Facility Name      0\n",
       "County/Parish      0\n",
       "State              0\n",
       "wt_efficiency      0\n",
       "tps                0\n",
       "weighted_sum       0\n",
       "dtype: int64"
      ]
     },
     "execution_count": 11,
     "metadata": {},
     "output_type": "execute_result"
    }
   ],
   "source": [
    "df.isna().sum().sort_values(ascending=False).head(10)"
   ]
  },
  {
   "cell_type": "code",
   "execution_count": null,
   "id": "2e76a714-385b-4d0b-b450-5d61f441864f",
   "metadata": {},
   "outputs": [],
   "source": []
  },
  {
   "cell_type": "code",
   "execution_count": null,
   "id": "4068a587-0b29-4992-8ca0-42a870f036d5",
   "metadata": {},
   "outputs": [],
   "source": []
  }
 ],
 "metadata": {
  "kernelspec": {
   "display_name": "Python 3 (ipykernel)",
   "language": "python",
   "name": "python3"
  },
  "language_info": {
   "codemirror_mode": {
    "name": "ipython",
    "version": 3
   },
   "file_extension": ".py",
   "mimetype": "text/x-python",
   "name": "python",
   "nbconvert_exporter": "python",
   "pygments_lexer": "ipython3",
   "version": "3.11.13"
  }
 },
 "nbformat": 4,
 "nbformat_minor": 5
}
