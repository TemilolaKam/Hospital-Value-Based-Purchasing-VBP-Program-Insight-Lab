{
 "cells": [
  {
   "cell_type": "code",
   "execution_count": 1,
   "id": "dbb246aa-18b2-45b8-8834-261f895f7daf",
   "metadata": {},
   "outputs": [
    {
     "name": "stdout",
     "output_type": "stream",
     "text": [
      "Max absolute diff = 0.0000\n"
     ]
    }
   ],
   "source": [
    "import pandas as pd\n",
    "from pathlib import Path\n",
    "\n",
    "\n",
    "df = pd.read_parquet(Path(\"../data/processed/hvbp_2025_clean.parquet\"))\n",
    "\n",
    "\n",
    "domain_cols = [\"wt_clinical\", \"wt_pce\", \"wt_safety\", \"wt_efficiency\"]\n",
    "\n",
    "df[\"tps_calc\"] = df[domain_cols].sum(axis=1, skipna=True)  \n",
    "df[\"abs_err\"]  = (df[\"tps\"] - df[\"tps_calc\"]).abs()\n",
    "\n",
    "print(f\"Max absolute diff = {df['abs_err'].max():.4f}\")   \n",
    "assert df[\"abs_err\"].max() < 0.02, \"Mismatch—check the data types or NaNs!\"\n"
   ]
  },
  {
   "cell_type": "markdown",
   "id": "5919a3c3-6ab2-4788-8d5b-9ee900b23435",
   "metadata": {},
   "source": [
    "## Linear Regression Baseline: Verifying TPS = Sum of Domain Scores\n",
    "## This creates a \"baseline\" that any other model should do better than"
   ]
  },
  {
   "cell_type": "code",
   "execution_count": 2,
   "id": "ac8271fd-e96f-4c39-9ff2-f274f89ea796",
   "metadata": {},
   "outputs": [
    {
     "name": "stdout",
     "output_type": "stream",
     "text": [
      "Train R²: 1.0\n",
      "Test  R²: 1.0\n"
     ]
    },
    {
     "data": {
      "text/html": [
       "<div>\n",
       "<style scoped>\n",
       "    .dataframe tbody tr th:only-of-type {\n",
       "        vertical-align: middle;\n",
       "    }\n",
       "\n",
       "    .dataframe tbody tr th {\n",
       "        vertical-align: top;\n",
       "    }\n",
       "\n",
       "    .dataframe thead th {\n",
       "        text-align: right;\n",
       "    }\n",
       "</style>\n",
       "<table border=\"1\" class=\"dataframe\">\n",
       "  <thead>\n",
       "    <tr style=\"text-align: right;\">\n",
       "      <th></th>\n",
       "      <th>β coeffs</th>\n",
       "    </tr>\n",
       "  </thead>\n",
       "  <tbody>\n",
       "    <tr>\n",
       "      <th>wt_clinical</th>\n",
       "      <td>1.0</td>\n",
       "    </tr>\n",
       "    <tr>\n",
       "      <th>wt_pce</th>\n",
       "      <td>1.0</td>\n",
       "    </tr>\n",
       "    <tr>\n",
       "      <th>wt_safety</th>\n",
       "      <td>1.0</td>\n",
       "    </tr>\n",
       "    <tr>\n",
       "      <th>wt_efficiency</th>\n",
       "      <td>1.0</td>\n",
       "    </tr>\n",
       "  </tbody>\n",
       "</table>\n",
       "</div>"
      ],
      "text/plain": [
       "               β coeffs\n",
       "wt_clinical         1.0\n",
       "wt_pce              1.0\n",
       "wt_safety           1.0\n",
       "wt_efficiency       1.0"
      ]
     },
     "execution_count": 2,
     "metadata": {},
     "output_type": "execute_result"
    }
   ],
   "source": [
    "\n",
    "X = df[domain_cols].fillna(0)          # simple NaN→0 impute\n",
    "y = df[\"tps\"]\n",
    "\n",
    "\n",
    "from sklearn.model_selection import train_test_split\n",
    "Xtr, Xte, ytr, yte = train_test_split(X, y, test_size=0.20, random_state=42)\n",
    "\n",
    "\n",
    "from sklearn.linear_model import LinearRegression\n",
    "linreg = LinearRegression().fit(Xtr, ytr)\n",
    "\n",
    "print(\"Train R²:\", linreg.score(Xtr, ytr))\n",
    "print(\"Test  R²:\", linreg.score(Xte, yte))\n",
    "\n",
    "pd.Series(linreg.coef_, index=domain_cols).to_frame(\"β coeffs\")\n"
   ]
  },
  {
   "cell_type": "code",
   "execution_count": 3,
   "id": "dd34cec2-e2bb-465f-bacd-fcbc5f13906f",
   "metadata": {},
   "outputs": [
    {
     "data": {
      "text/plain": [
       "['../models/tps_linear.pkl']"
      ]
     },
     "execution_count": 3,
     "metadata": {},
     "output_type": "execute_result"
    }
   ],
   "source": [
    "import joblib, os\n",
    "os.makedirs(\"../models\", exist_ok=True)\n",
    "joblib.dump(linreg, \"../models/tps_linear.pkl\")"
   ]
  },
  {
   "cell_type": "markdown",
   "id": "770afc0b-8b63-4745-b210-92d5b53d8ec3",
   "metadata": {},
   "source": [
    "# Predicting Top-Quartile Hospital Performance (XGBoost Classifier)\n",
    "## Model to predict to predict whether a hospital lands in the FY-2025 TPS top-25 %"
   ]
  },
  {
   "cell_type": "code",
   "execution_count": 7,
   "id": "af73d244-66c2-40b5-927e-a45ebae61ce3",
   "metadata": {},
   "outputs": [
    {
     "name": "stdout",
     "output_type": "stream",
     "text": [
      "PR-AUC: 0.9680116281817412\n"
     ]
    },
    {
     "data": {
      "text/plain": [
       "['../models/tps_topquartile_xgb.pkl']"
      ]
     },
     "execution_count": 7,
     "metadata": {},
     "output_type": "execute_result"
    }
   ],
   "source": [
    "\n",
    "q75 = df[\"tps\"].quantile(0.75)\n",
    "y_q4 = (df[\"tps\"] >= q75).astype(int)          # 1 = top 25 %\n",
    "\n",
    "from xgboost import XGBClassifier\n",
    "from sklearn.metrics import precision_recall_curve, auc\n",
    "\n",
    "Xtr, Xte, ytr, yte = train_test_split(X, y_q4, test_size=0.20, stratify=y_q4,\n",
    "                                      random_state=42)\n",
    "\n",
    "xgb = XGBClassifier(\n",
    "        n_estimators=300,\n",
    "        max_depth=3,\n",
    "        learning_rate=0.05,\n",
    "        scale_pos_weight = (y_q4==0).sum() / (y_q4==1).sum()  # handles class imbalance\n",
    "      ).fit(Xtr, ytr)\n",
    "\n",
    "proba = xgb.predict_proba(Xte)[:,1]\n",
    "prec, rec, _ = precision_recall_curve(yte, proba)\n",
    "print(\"PR-AUC:\", auc(rec, prec))\n",
    "joblib.dump(xgb, \"../models/tps_topquartile_xgb.pkl\")\n",
    "\n"
   ]
  },
  {
   "cell_type": "markdown",
   "id": "2eabbcad-14fa-40ca-a3d1-ab7e66ba46ce",
   "metadata": {},
   "source": [
    "#### PR-AUC = 0.97 means the XGBoost model is very reliable at identifying which hospitals will be top performers."
   ]
  },
  {
   "cell_type": "markdown",
   "id": "385d9552-e702-485e-9b59-d46331ebd4da",
   "metadata": {},
   "source": [
    "\n",
    "## Feature-importance bar plot for the XGB classifier\n"
   ]
  },
  {
   "cell_type": "code",
   "execution_count": 8,
   "id": "51f8bb7d-336a-4af1-8648-e9d5d3e16837",
   "metadata": {},
   "outputs": [
    {
     "data": {
      "image/png": "[encoded data removed]",
      "text/plain": [
       "<Figure size 600x400 with 1 Axes>"
      ]
     },
     "metadata": {},
     "output_type": "display_data"
    }
   ],
   "source": [
    "\n",
    "import numpy as np\n",
    "import matplotlib.pyplot as plt\n",
    "\n",
    "\n",
    "importances = xgb.feature_importances_        \n",
    "feat_names  = X.columns                       \n",
    "\n",
    "\n",
    "order = np.argsort(importances)[::-1]\n",
    "\n",
    "\n",
    "plt.figure(figsize=(6, 4))\n",
    "plt.bar(range(len(order)), importances[order], tick_label=feat_names[order])\n",
    "plt.title(\"XGB – Feature Importance (gain)\")\n",
    "plt.ylabel(\"Importance score\")\n",
    "plt.xticks(rotation=45, ha=\"right\")\n",
    "plt.tight_layout()\n",
    "\n",
    "\n",
    "plt.savefig(\"../figures/xgb_feature_importance.png\", dpi=150)\n",
    "plt.show()\n"
   ]
  },
  {
   "cell_type": "markdown",
   "id": "a76bc232-8221-4c43-a101-cc44617c8b96",
   "metadata": {},
   "source": [
    "#### Efficiency contributes ~40 % of the model’s predictive gain, confirming the domain’s influence on top-quartile status. Safety is the next strongest drive, when it is present."
   ]
  },
  {
   "cell_type": "code",
   "execution_count": null,
   "id": "1177f725-7554-41db-8814-f123855a3233",
   "metadata": {},
   "outputs": [],
   "source": []
  }
 ],
 "metadata": {
  "kernelspec": {
   "display_name": "Python 3 (ipykernel)",
   "language": "python",
   "name": "python3"
  },
  "language_info": {
   "codemirror_mode": {
    "name": "ipython",
    "version": 3
   },
   "file_extension": ".py",
   "mimetype": "text/x-python",
   "name": "python",
   "nbconvert_exporter": "python",
   "pygments_lexer": "ipython3",
   "version": "3.11.13"
  }
 },
 "nbformat": 4,
 "nbformat_minor": 5
}
