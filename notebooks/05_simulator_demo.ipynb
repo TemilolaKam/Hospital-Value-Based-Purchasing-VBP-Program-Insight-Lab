{
 "cells": [
  {
   "cell_type": "code",
   "execution_count": 1,
   "id": "864d61fd-0146-401f-afce-cb2714a6586f",
   "metadata": {},
   "outputs": [],
   "source": [
    "\n",
    "import joblib, numpy as np, pandas as pd\n",
    "import shap, matplotlib.pyplot as plt\n",
    "from pathlib import Path"
   ]
  },
  {
   "cell_type": "markdown",
   "id": "24c89b50-43c7-4eb8-84e8-ce14a09ef541",
   "metadata": {},
   "source": [
    "## Hospital Performance Simulator\n",
    "### Core function for TPS prediction, probability assessment, and explainability"
   ]
  },
  {
   "cell_type": "code",
   "execution_count": 2,
   "id": "3f07b742-6513-467a-83fa-d718af38a3db",
   "metadata": {},
   "outputs": [],
   "source": [
    "\n",
    "MODEL_DIR = Path(\"../models\")\n",
    "linr = joblib.load(MODEL_DIR / \"tps_linear.pkl\")          \n",
    "xgb  = joblib.load(MODEL_DIR / \"tps_topquartile_xgb.pkl\")\n",
    "explainer = shap.TreeExplainer(xgb)\n",
    "\n",
    "def simulate(*, clinical, pce, safety, efficiency, explain=True):\n",
    "    \"\"\"\n",
    "    Simulate hospital performance predictions based on domain scores.\n",
    "    \n",
    "    This function predicts a hospital's Total Performance Score (TPS) and probability \n",
    "    of achieving top-quartile status (top 25% of performers) based on their weighted \n",
    "    domain scores. Optionally generates SHAP explanations for model interpretability.\n",
    "    \n",
    "    Parameters\n",
    "    ----------\n",
    "    clinical : float or None\n",
    "        Weighted Clinical Outcomes Domain Score (0-33.3 typical range)\n",
    "    pce : float or None  \n",
    "        Weighted Person & Community Engagement Domain Score (0-33.3 typical range)\n",
    "    safety : float or None\n",
    "        Weighted Safety Domain Score (0-33.3 typical range)\n",
    "        Pass None for hospitals without safety data (gets filled with 0)\n",
    "    efficiency : float or None\n",
    "        Weighted Efficiency & Cost Reduction Domain Score (0-33.3 typical range)\n",
    "    explain : bool, default=True\n",
    "        Whether to generate SHAP waterfall explanation plot\n",
    "        \n",
    "    Returns\n",
    "    -------\n",
    "    dict\n",
    "        Dictionary containing:\n",
    "        - 'tps' : float\n",
    "            Predicted Total Performance Score (rounded to 2 decimals)\n",
    "        - 'top_q_prob' : float  \n",
    "            Probability of top-quartile performance (0-1, rounded to 3 decimals)\n",
    "        - 'shap_values' : np.ndarray (if explain=True)\n",
    "            SHAP values showing feature contributions\n",
    "        - 'waterfall_fig' : matplotlib.figure.Figure (if explain=True)\n",
    "            SHAP waterfall plot explaining the prediction\n",
    "    \"\"\"\n",
    "    row = {\n",
    "        \"wt_clinical\":   clinical or 0.0,\n",
    "        \"wt_pce\":        pce       or 0.0,\n",
    "        \"wt_safety\":     safety if safety is not None else np.nan,\n",
    "        \"wt_efficiency\": efficiency or 0.0,\n",
    "    }\n",
    "    X = pd.DataFrame([row])\n",
    "    \n",
    "    # --- TPS via linear clone\n",
    "    tps = float(linr.predict(X.fillna(0))[0])\n",
    "    \n",
    "    # --- Top-quartile probability via XGB\n",
    "    prob = float(xgb.predict_proba(X.fillna(0))[0, 1])\n",
    "    \n",
    "    result = {\"tps\": round(tps, 2), \"top_q_prob\": round(prob, 3)}\n",
    "    \n",
    "    if explain:\n",
    "        sv = explainer.shap_values(X.fillna(0))[0]\n",
    "        result[\"shap_values\"] = sv\n",
    "        \n",
    "        \n",
    "        base = explainer.expected_value\n",
    "        fnames = [\"Clinical\", \"PCE\", \"Safety\", \"Efficiency\"]\n",
    "        \n",
    "        # Create a new figure for the waterfall\n",
    "        fig, ax = plt.subplots(figsize=(10, 6))\n",
    "        plt.sca(ax)\n",
    "        \n",
    "        shap.waterfall_plot(\n",
    "            shap.Explanation(values=sv,\n",
    "                           base_values=base,\n",
    "                           data=X.fillna(0).values[0],\n",
    "                           feature_names=fnames),\n",
    "            show=False\n",
    "        )\n",
    "        plt.tight_layout()\n",
    "        result[\"waterfall_fig\"] = fig\n",
    "    \n",
    "    return result\n"
   ]
  },
  {
   "cell_type": "markdown",
   "id": "838995ab-948c-4333-8445-56c50d36f512",
   "metadata": {},
   "source": [
    "## Demo: Single Hospital Simulation\n",
    "### Test the simulator with example hospital scores"
   ]
  },
  {
   "cell_type": "code",
   "execution_count": 3,
   "id": "b7e76ece-b68d-43cf-87c1-a85f5396e4e4",
   "metadata": {},
   "outputs": [
    {
     "data": {
      "text/plain": [
       "{'tps': 41.7,\n",
       " 'top_q_prob': 0.999,\n",
       " 'shap_values': array([ 0.92044026,  1.810669  , -2.6226919 ,  6.7574835 ], dtype=float32),\n",
       " 'waterfall_fig': <Figure size 800x350 with 3 Axes>}"
      ]
     },
     "execution_count": 3,
     "metadata": {},
     "output_type": "execute_result"
    },
    {
     "data": {
      "image/png": "[encoded data removed]",
      "text/plain": [
       "<Figure size 800x350 with 3 Axes>"
      ]
     },
     "metadata": {},
     "output_type": "display_data"
    }
   ],
   "source": [
    "baseline = simulate(clinical=6.7, pce=10, safety=None, efficiency=25)\n",
    "baseline\n"
   ]
  },
  {
   "cell_type": "markdown",
   "id": "84d4f082-3718-4496-8ebc-ee181f95ef9b",
   "metadata": {},
   "source": [
    "## Interactive  Dashboard\n",
    "### Real-time scenario testing with adjustable sliders"
   ]
  },
  {
   "cell_type": "code",
   "execution_count": 5,
   "id": "5c0825ef-d5a3-4350-978e-918af8752095",
   "metadata": {},
   "outputs": [
    {
     "data": {
      "application/vnd.jupyter.widget-view+json": {
       "model_id": "a20279bc4fd14838a3284940c8196495",
       "version_major": 2,
       "version_minor": 0
      },
      "text/plain": [
       "FloatSlider(value=6.7, description='Clinical', max=33.3)"
      ]
     },
     "metadata": {},
     "output_type": "display_data"
    },
    {
     "data": {
      "application/vnd.jupyter.widget-view+json": {
       "model_id": "b3cdd41e7bdf4f4dad3b03045a6d48d0",
       "version_major": 2,
       "version_minor": 0
      },
      "text/plain": [
       "FloatSlider(value=10.0, description='PCE', max=33.3)"
      ]
     },
     "metadata": {},
     "output_type": "display_data"
    },
    {
     "data": {
      "application/vnd.jupyter.widget-view+json": {
       "model_id": "4c684679ec5a4fb3b49d5fb38595fb00",
       "version_major": 2,
       "version_minor": 0
      },
      "text/plain": [
       "FloatSlider(value=0.0, description='Safety', max=33.3)"
      ]
     },
     "metadata": {},
     "output_type": "display_data"
    },
    {
     "data": {
      "application/vnd.jupyter.widget-view+json": {
       "model_id": "d4e7ac9c45cc4e7aa73d205c0b631908",
       "version_major": 2,
       "version_minor": 0
      },
      "text/plain": [
       "FloatSlider(value=25.0, description='Efficiency', max=33.3)"
      ]
     },
     "metadata": {},
     "output_type": "display_data"
    },
    {
     "data": {
      "application/vnd.jupyter.widget-view+json": {
       "model_id": "23d4e472bc714e26ba909c388393201d",
       "version_major": 2,
       "version_minor": 0
      },
      "text/plain": [
       "Output(layout=Layout(border_bottom='1px solid lightgrey', border_left='1px solid lightgrey', border_right='1px…"
      ]
     },
     "metadata": {},
     "output_type": "display_data"
    }
   ],
   "source": [
    "import ipywidgets as wd\n",
    "from IPython.display import display, clear_output\n",
    "\n",
    "\n",
    "s_clin = wd.FloatSlider(description=\"Clinical\",   min=0, max=33.3, step=0.1, value=6.7)\n",
    "s_pce  = wd.FloatSlider(description=\"PCE\",        min=0, max=33.3, step=0.1, value=10)\n",
    "s_safe = wd.FloatSlider(description=\"Safety\",     min=0, max=33.3, step=0.1, value=0)\n",
    "s_eff  = wd.FloatSlider(description=\"Efficiency\", min=0, max=33.3, step=0.1, value=25)\n",
    "\n",
    "out = wd.Output(layout={\"border\": \"1px solid lightgrey\"})\n",
    "\n",
    "def update(_=None):\n",
    "\n",
    "    \"\"\"\n",
    "    Update the interactive dashboard display when slider values change.\n",
    "    \n",
    "    This callback function is triggered whenever any slider value changes,\n",
    "    recalculating the hospital performance predictions and updating the\n",
    "    visual output in real-time.\n",
    "    \n",
    "    Parameters\n",
    "    ----------\n",
    "    _ : any, optional, default=None\n",
    "        Placeholder parameter for slider change events. The actual slider\n",
    "        values are accessed via the global slider objects (s_clin, s_pce, etc.)\n",
    "        Jupyter widgets pass change information here, but we don't need it.\n",
    "        \n",
    "    Returns\n",
    "    -------\n",
    "    None\n",
    "        Function updates the dashboard display in-place\n",
    "\n",
    "    \"\"\"\n",
    "    \n",
    "    with out:\n",
    "        clear_output(wait=True)\n",
    "        res = simulate(\n",
    "            clinical=s_clin.value,\n",
    "            pce=s_pce.value,\n",
    "            safety=s_safe.value if s_safe.value > 0 else None,\n",
    "            efficiency=s_eff.value\n",
    "        )\n",
    "        print(f\"TPS: {res['tps']}   •   Top-quartile probability: {res['top_q_prob']:.2%}\")\n",
    "        res[\"waterfall_fig\"]\n",
    "\n",
    "for slider in (s_clin, s_pce, s_safe, s_eff):\n",
    "    slider.observe(update, \"value\")\n",
    "\n",
    "display(s_clin, s_pce, s_safe, s_eff, out)\n",
    "update()               \n"
   ]
  },
  {
   "cell_type": "markdown",
   "id": "8f5eff0e-0fea-4ca5-b3a2-682aa39d081d",
   "metadata": {},
   "source": [
    "## Scenario Analysis\n",
    "### Systematic evaluation of score combinations for optimal performance"
   ]
  },
  {
   "cell_type": "code",
   "execution_count": 29,
   "id": "e95a8586-c82e-4d32-9835-95af41964592",
   "metadata": {
    "scrolled": true
   },
   "outputs": [
    {
     "data": {
      "text/html": [
       "<div>\n",
       "<style scoped>\n",
       "    .dataframe tbody tr th:only-of-type {\n",
       "        vertical-align: middle;\n",
       "    }\n",
       "\n",
       "    .dataframe tbody tr th {\n",
       "        vertical-align: top;\n",
       "    }\n",
       "\n",
       "    .dataframe thead th {\n",
       "        text-align: right;\n",
       "    }\n",
       "</style>\n",
       "<table border=\"1\" class=\"dataframe\">\n",
       "  <thead>\n",
       "    <tr style=\"text-align: right;\">\n",
       "      <th></th>\n",
       "      <th>clinical</th>\n",
       "      <th>pce</th>\n",
       "      <th>safety</th>\n",
       "      <th>efficiency</th>\n",
       "      <th>TPS</th>\n",
       "      <th>TopQ_Prob</th>\n",
       "    </tr>\n",
       "  </thead>\n",
       "  <tbody>\n",
       "    <tr>\n",
       "      <th>0</th>\n",
       "      <td>0</td>\n",
       "      <td>0</td>\n",
       "      <td>20</td>\n",
       "      <td>30</td>\n",
       "      <td>50.0</td>\n",
       "      <td>1.0</td>\n",
       "    </tr>\n",
       "    <tr>\n",
       "      <th>1</th>\n",
       "      <td>0</td>\n",
       "      <td>10</td>\n",
       "      <td>20</td>\n",
       "      <td>20</td>\n",
       "      <td>50.0</td>\n",
       "      <td>1.0</td>\n",
       "    </tr>\n",
       "    <tr>\n",
       "      <th>2</th>\n",
       "      <td>10</td>\n",
       "      <td>20</td>\n",
       "      <td>20</td>\n",
       "      <td>10</td>\n",
       "      <td>60.0</td>\n",
       "      <td>1.0</td>\n",
       "    </tr>\n",
       "    <tr>\n",
       "      <th>3</th>\n",
       "      <td>10</td>\n",
       "      <td>20</td>\n",
       "      <td>20</td>\n",
       "      <td>20</td>\n",
       "      <td>70.0</td>\n",
       "      <td>1.0</td>\n",
       "    </tr>\n",
       "    <tr>\n",
       "      <th>4</th>\n",
       "      <td>10</td>\n",
       "      <td>20</td>\n",
       "      <td>10</td>\n",
       "      <td>20</td>\n",
       "      <td>60.0</td>\n",
       "      <td>1.0</td>\n",
       "    </tr>\n",
       "    <tr>\n",
       "      <th>5</th>\n",
       "      <td>10</td>\n",
       "      <td>20</td>\n",
       "      <td>20</td>\n",
       "      <td>30</td>\n",
       "      <td>80.0</td>\n",
       "      <td>1.0</td>\n",
       "    </tr>\n",
       "    <tr>\n",
       "      <th>6</th>\n",
       "      <td>10</td>\n",
       "      <td>0</td>\n",
       "      <td>20</td>\n",
       "      <td>30</td>\n",
       "      <td>60.0</td>\n",
       "      <td>1.0</td>\n",
       "    </tr>\n",
       "    <tr>\n",
       "      <th>7</th>\n",
       "      <td>10</td>\n",
       "      <td>0</td>\n",
       "      <td>20</td>\n",
       "      <td>20</td>\n",
       "      <td>50.0</td>\n",
       "      <td>1.0</td>\n",
       "    </tr>\n",
       "    <tr>\n",
       "      <th>8</th>\n",
       "      <td>10</td>\n",
       "      <td>0</td>\n",
       "      <td>20</td>\n",
       "      <td>10</td>\n",
       "      <td>40.0</td>\n",
       "      <td>1.0</td>\n",
       "    </tr>\n",
       "    <tr>\n",
       "      <th>9</th>\n",
       "      <td>5</td>\n",
       "      <td>0</td>\n",
       "      <td>20</td>\n",
       "      <td>30</td>\n",
       "      <td>55.0</td>\n",
       "      <td>1.0</td>\n",
       "    </tr>\n",
       "    <tr>\n",
       "      <th>10</th>\n",
       "      <td>5</td>\n",
       "      <td>10</td>\n",
       "      <td>20</td>\n",
       "      <td>30</td>\n",
       "      <td>65.0</td>\n",
       "      <td>1.0</td>\n",
       "    </tr>\n",
       "    <tr>\n",
       "      <th>11</th>\n",
       "      <td>5</td>\n",
       "      <td>10</td>\n",
       "      <td>20</td>\n",
       "      <td>20</td>\n",
       "      <td>55.0</td>\n",
       "      <td>1.0</td>\n",
       "    </tr>\n",
       "    <tr>\n",
       "      <th>12</th>\n",
       "      <td>5</td>\n",
       "      <td>10</td>\n",
       "      <td>10</td>\n",
       "      <td>30</td>\n",
       "      <td>55.0</td>\n",
       "      <td>1.0</td>\n",
       "    </tr>\n",
       "    <tr>\n",
       "      <th>13</th>\n",
       "      <td>0</td>\n",
       "      <td>20</td>\n",
       "      <td>20</td>\n",
       "      <td>20</td>\n",
       "      <td>60.0</td>\n",
       "      <td>1.0</td>\n",
       "    </tr>\n",
       "    <tr>\n",
       "      <th>14</th>\n",
       "      <td>0</td>\n",
       "      <td>20</td>\n",
       "      <td>20</td>\n",
       "      <td>30</td>\n",
       "      <td>70.0</td>\n",
       "      <td>1.0</td>\n",
       "    </tr>\n",
       "  </tbody>\n",
       "</table>\n",
       "</div>"
      ],
      "text/plain": [
       "    clinical  pce safety  efficiency   TPS  TopQ_Prob\n",
       "0          0    0     20          30  50.0        1.0\n",
       "1          0   10     20          20  50.0        1.0\n",
       "2         10   20     20          10  60.0        1.0\n",
       "3         10   20     20          20  70.0        1.0\n",
       "4         10   20     10          20  60.0        1.0\n",
       "5         10   20     20          30  80.0        1.0\n",
       "6         10    0     20          30  60.0        1.0\n",
       "7         10    0     20          20  50.0        1.0\n",
       "8         10    0     20          10  40.0        1.0\n",
       "9          5    0     20          30  55.0        1.0\n",
       "10         5   10     20          30  65.0        1.0\n",
       "11         5   10     20          20  55.0        1.0\n",
       "12         5   10     10          30  55.0        1.0\n",
       "13         0   20     20          20  60.0        1.0\n",
       "14         0   20     20          30  70.0        1.0"
      ]
     },
     "execution_count": 29,
     "metadata": {},
     "output_type": "execute_result"
    }
   ],
   "source": [
    "import itertools, pandas as pd\n",
    "\n",
    "# define value grids \n",
    "clinical_vals   = [0,  5, 10]      # weighted points\n",
    "pce_vals        = [0, 10, 20]\n",
    "safety_vals     = [None, 10, 20]   # None = \"Not Available\" as in the original dataset for some hospitals\n",
    "efficiency_vals = [10, 20, 30]\n",
    "\n",
    "grid = list(itertools.product(clinical_vals,\n",
    "                              pce_vals,\n",
    "                              safety_vals,\n",
    "                              efficiency_vals))\n",
    "\n",
    "# run simulate() over the cartesian grid \n",
    "rows = []\n",
    "for clin, pce, saf, eff in grid:\n",
    "    r = simulate(clinical=clin, pce=pce, safety=saf, efficiency=eff,\n",
    "                 explain=True)        \n",
    "    rows.append({\n",
    "        \"clinical\": clin,\n",
    "        \"pce\":      pce,\n",
    "        \"safety\":   saf if saf is not None else \"NA\",\n",
    "        \"efficiency\": eff,\n",
    "        \"TPS\":        r[\"tps\"],\n",
    "        \"TopQ_Prob\":  r[\"top_q_prob\"]\n",
    "    })\n",
    "\n",
    "scenario_df = pd.DataFrame(rows)\n",
    "\n",
    "scenario_df = scenario_df.sort_values(\"TopQ_Prob\", ascending=False).reset_index(drop=True)\n",
    "scenario_df.head(15)           # display top 15 scenarios by probability\n"
   ]
  },
  {
   "cell_type": "markdown",
   "id": "127bb53d-6cc9-4bfa-b77b-abb650c7282e",
   "metadata": {},
   "source": [
    "## Export Individual Hospital Reports\n",
    "### Generate SHAP waterfall explanations for specific facilities"
   ]
  },
  {
   "cell_type": "code",
   "execution_count": 31,
   "id": "a44a7153-903a-4d47-833e-959e81b8348f",
   "metadata": {},
   "outputs": [
    {
     "name": "stdout",
     "output_type": "stream",
     "text": [
      "Saved waterfall_20006.png  (TPS=58.75, Prob=100.00%)\n",
      "Saved waterfall_50137.png  (TPS=59.0, Prob=100.00%)\n",
      "Saved waterfall_230241.png  (TPS=63.0, Prob=100.00%)\n",
      "Saved waterfall_240006.png  (TPS=64.11, Prob=100.00%)\n",
      "Saved waterfall_240043.png  (TPS=59.88, Prob=100.00%)\n",
      "Saved waterfall_340187.png  (TPS=75.67, Prob=100.00%)\n",
      "Saved waterfall_340190.png  (TPS=60.22, Prob=100.00%)\n",
      "Saved waterfall_460057.png  (TPS=61.0, Prob=100.00%)\n"
     ]
    }
   ],
   "source": [
    "import os, matplotlib.pyplot as plt\n",
    "from pathlib import Path\n",
    "\n",
    "\n",
    "fig_dir = Path(\"../figures/batch_waterfalls\")\n",
    "fig_dir.mkdir(exist_ok=True, parents=True)\n",
    "\n",
    "df   = pd.read_parquet(Path(\"../data/processed/hvbp_2025_clean.parquet\"))\n",
    "\n",
    "sample_ids = [20006, 50137, 230241, 240006, 240043, 340187, 340190, 460057]\n",
    "\n",
    "\n",
    "for fac in sample_ids:\n",
    "    row = df[df[\"Facility ID\"] == fac].iloc[0]\n",
    "\n",
    "    res = simulate(clinical=row[\"wt_clinical\"],\n",
    "                   pce=row[\"wt_pce\"],\n",
    "                   safety=row[\"wt_safety\"] if not pd.isna(row[\"wt_safety\"]) else None,\n",
    "                   efficiency=row[\"wt_efficiency\"],\n",
    "                   explain=True)\n",
    "\n",
    "    # save figure\n",
    "    fpath = fig_dir / f\"waterfall_{fac}.png\"\n",
    "    res[\"waterfall_fig\"].savefig(fpath, dpi=150)\n",
    "    plt.close(res[\"waterfall_fig\"])        \n",
    "    print(f\"Saved {fpath.name}  (TPS={res['tps']}, Prob={res['top_q_prob']:.2%})\")\n"
   ]
  },
  {
   "cell_type": "code",
   "execution_count": null,
   "id": "f2b0f8ab-091c-40b9-a86a-62afdf5a2b47",
   "metadata": {},
   "outputs": [],
   "source": []
  }
 ],
 "metadata": {
  "kernelspec": {
   "display_name": "Python 3 (ipykernel)",
   "language": "python",
   "name": "python3"
  },
  "language_info": {
   "codemirror_mode": {
    "name": "ipython",
    "version": 3
   },
   "file_extension": ".py",
   "mimetype": "text/x-python",
   "name": "python",
   "nbconvert_exporter": "python",
   "pygments_lexer": "ipython3",
   "version": "3.11.13"
  }
 },
 "nbformat": 4,
 "nbformat_minor": 5
}
